{
 "cells": [
  {
   "cell_type": "markdown",
   "id": "8419ff09-c1fa-487b-a0fe-5e7943b7ecb1",
   "metadata": {},
   "source": [
    "# Generate Perfect Data to Classify with ID3\n",
    "Perfect data is where everything seperates out and there is no noise, or contradictory datapoints.\n",
    "\n",
    "I construct a decision tree in if loops to label data:"
   ]
  },
  {
   "cell_type": "code",
   "execution_count": 10,
   "id": "d000bca0-2edd-43aa-a024-3cd51c4e12bd",
   "metadata": {},
   "outputs": [],
   "source": [
    "def decision(v, intervals):\n",
    "    \n",
    "    low_bound = intervals.pop(0)\n",
    "    for i,upper_bound in enumerate(intervals):\n",
    "        if low_bound<v<upper_bound:\n",
    "            return i\n",
    "        low_bound = upper_bound\n",
    "    return -1\n",
    "\n",
    "def f(x, y): # each variable is between 0 and 1\n",
    "    \n",
    "    match decision(x, [0, 0.5, 0.7, 1]):\n",
    "        case 0:\n",
    "            return 'A'\n",
    "        case 1:\n",
    "            match decision(y, [0, 0.5, 0.7, 1]):\n",
    "                case 0:\n",
    "                    return 'B'\n",
    "                case 1:\n",
    "                    return 'C'\n",
    "                case 2:\n",
    "                    return 'D'\n",
    "        case 2:\n",
    "            return 'E'\n"
   ]
  },
  {
   "cell_type": "code",
   "execution_count": 4,
   "id": "d7aedb0f-eb8b-4548-b822-7d0712ae4edf",
   "metadata": {},
   "outputs": [],
   "source": [
    "import numpy as np\n",
    "import pandas as pd"
   ]
  },
  {
   "cell_type": "markdown",
   "id": "973a2d00-1630-45a8-bbc6-4850d35a6c8c",
   "metadata": {},
   "source": [
    "# Generate Data"
   ]
  },
  {
   "cell_type": "code",
   "execution_count": 32,
   "id": "86928354-91b8-4bc6-b76b-fde45781da7d",
   "metadata": {},
   "outputs": [
    {
     "data": {
      "text/html": [
       "<div>\n",
       "<style scoped>\n",
       "    .dataframe tbody tr th:only-of-type {\n",
       "        vertical-align: middle;\n",
       "    }\n",
       "\n",
       "    .dataframe tbody tr th {\n",
       "        vertical-align: top;\n",
       "    }\n",
       "\n",
       "    .dataframe thead th {\n",
       "        text-align: right;\n",
       "    }\n",
       "</style>\n",
       "<table border=\"1\" class=\"dataframe\">\n",
       "  <thead>\n",
       "    <tr style=\"text-align: right;\">\n",
       "      <th></th>\n",
       "      <th>x</th>\n",
       "      <th>y</th>\n",
       "      <th>label</th>\n",
       "    </tr>\n",
       "  </thead>\n",
       "  <tbody>\n",
       "    <tr>\n",
       "      <th>0</th>\n",
       "      <td>1</td>\n",
       "      <td>0</td>\n",
       "      <td>B</td>\n",
       "    </tr>\n",
       "    <tr>\n",
       "      <th>1</th>\n",
       "      <td>0</td>\n",
       "      <td>1</td>\n",
       "      <td>A</td>\n",
       "    </tr>\n",
       "    <tr>\n",
       "      <th>2</th>\n",
       "      <td>2</td>\n",
       "      <td>2</td>\n",
       "      <td>E</td>\n",
       "    </tr>\n",
       "    <tr>\n",
       "      <th>3</th>\n",
       "      <td>0</td>\n",
       "      <td>0</td>\n",
       "      <td>A</td>\n",
       "    </tr>\n",
       "    <tr>\n",
       "      <th>4</th>\n",
       "      <td>0</td>\n",
       "      <td>0</td>\n",
       "      <td>A</td>\n",
       "    </tr>\n",
       "    <tr>\n",
       "      <th>...</th>\n",
       "      <td>...</td>\n",
       "      <td>...</td>\n",
       "      <td>...</td>\n",
       "    </tr>\n",
       "    <tr>\n",
       "      <th>95</th>\n",
       "      <td>2</td>\n",
       "      <td>0</td>\n",
       "      <td>E</td>\n",
       "    </tr>\n",
       "    <tr>\n",
       "      <th>96</th>\n",
       "      <td>2</td>\n",
       "      <td>2</td>\n",
       "      <td>E</td>\n",
       "    </tr>\n",
       "    <tr>\n",
       "      <th>97</th>\n",
       "      <td>2</td>\n",
       "      <td>0</td>\n",
       "      <td>E</td>\n",
       "    </tr>\n",
       "    <tr>\n",
       "      <th>98</th>\n",
       "      <td>1</td>\n",
       "      <td>0</td>\n",
       "      <td>B</td>\n",
       "    </tr>\n",
       "    <tr>\n",
       "      <th>99</th>\n",
       "      <td>2</td>\n",
       "      <td>0</td>\n",
       "      <td>E</td>\n",
       "    </tr>\n",
       "  </tbody>\n",
       "</table>\n",
       "<p>100 rows × 3 columns</p>\n",
       "</div>"
      ],
      "text/plain": [
       "    x  y label\n",
       "0   1  0     B\n",
       "1   0  1     A\n",
       "2   2  2     E\n",
       "3   0  0     A\n",
       "4   0  0     A\n",
       ".. .. ..   ...\n",
       "95  2  0     E\n",
       "96  2  2     E\n",
       "97  2  0     E\n",
       "98  1  0     B\n",
       "99  2  0     E\n",
       "\n",
       "[100 rows x 3 columns]"
      ]
     },
     "execution_count": 32,
     "metadata": {},
     "output_type": "execute_result"
    }
   ],
   "source": [
    "train = pd.DataFrame(\n",
    "    [\n",
    "        [decision(x, [0, 0.5, 0.7, 1]), decision(y, [0, 0.5, 0.7, 1]), f(x, y)]\n",
    "        for x, y in np.random.uniform(size=[100,2])\n",
    "    ],\n",
    "    columns=['x', 'y', 'label']\n",
    ")\n",
    "train"
   ]
  },
  {
   "cell_type": "code",
   "execution_count": 33,
   "id": "8d062a04-0609-46cd-b689-9d5ee8d4aa47",
   "metadata": {},
   "outputs": [],
   "source": [
    "run ../ID3.py"
   ]
  },
  {
   "cell_type": "code",
   "execution_count": 34,
   "id": "225fc619-a7b3-4004-b49f-e6500a8b191f",
   "metadata": {},
   "outputs": [],
   "source": [
    "model = ID3(train, 'label', attribute_values={\n",
    "    'x': [0, 1, 2],\n",
    "    'y': [0, 1, 2]\n",
    "}, max_depth=7)"
   ]
  },
  {
   "cell_type": "code",
   "execution_count": 35,
   "id": "4e52871b-75cc-4134-b3f5-eafa0064ac1d",
   "metadata": {},
   "outputs": [
    {
     "data": {
      "text/plain": [
       "{'y=0': {'x=0': 'A', 'x=1': 'B', 'x=2': 'E'},\n",
       " 'y=1': {'x=0': 'A', 'x=1': 'C', 'x=2': 'E'},\n",
       " 'y=2': {'x=0': 'A', 'x=1': 'D', 'x=2': 'E'}}"
      ]
     },
     "execution_count": 35,
     "metadata": {},
     "output_type": "execute_result"
    }
   ],
   "source": [
    "model"
   ]
  },
  {
   "cell_type": "code",
   "execution_count": 37,
   "id": "3c30ff76-2d33-42b2-92ea-9a1909c04d54",
   "metadata": {},
   "outputs": [
    {
     "data": {
      "text/plain": [
       "0"
      ]
     },
     "execution_count": 37,
     "metadata": {},
     "output_type": "execute_result"
    }
   ],
   "source": [
    "errors = 0\n",
    "def check_example(example, node):\n",
    "    global errors\n",
    "    if type(node)==str:\n",
    "        # print(node, example['label'])\n",
    "        assert(example['label']==node)\n",
    "        if not example['label']==node:\n",
    "            errors+=1\n",
    "            return False\n",
    "        return True\n",
    "    \n",
    "    keys = list(node.keys())\n",
    "    \n",
    "    attribute = keys[0].split('=')[0]\n",
    "    \n",
    "    value = example[attribute]\n",
    "    \n",
    "    # print(attribute+'='+str(value), example.label)\n",
    "    return check_example(example, node[attribute+'='+str(value)])\n",
    "\n",
    "for index, row in train.iterrows():\n",
    "    # print(index)\n",
    "    if not check_example(row, model):\n",
    "        # print(index)\n",
    "        pass\n",
    "    \n",
    "errors"
   ]
  },
  {
   "cell_type": "code",
   "execution_count": null,
   "id": "52d33ab2-7db2-40ac-a7d4-83d187db6e12",
   "metadata": {},
   "outputs": [],
   "source": []
  }
 ],
 "metadata": {
  "kernelspec": {
   "display_name": "Python 3 (ipykernel)",
   "language": "python",
   "name": "python3"
  },
  "language_info": {
   "codemirror_mode": {
    "name": "ipython",
    "version": 3
   },
   "file_extension": ".py",
   "mimetype": "text/x-python",
   "name": "python",
   "nbconvert_exporter": "python",
   "pygments_lexer": "ipython3",
   "version": "3.10.8"
  }
 },
 "nbformat": 4,
 "nbformat_minor": 5
}
