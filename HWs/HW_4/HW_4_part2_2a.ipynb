{
 "cells": [
  {
   "cell_type": "code",
   "execution_count": null,
   "id": "1cf521f3-74c3-4a07-bbce-d3d67e602fb7",
   "metadata": {},
   "outputs": [],
   "source": [
    "import pandas as pd\n",
    "import numpy as np\n",
    "\n",
    "import sys\n",
    "sys.path.append('../../')\n",
    "\n",
    "print('HW4 Practice Problem (2)')\n",
    "\n",
    "from SVM import Primal"
   ]
  },
  {
   "cell_type": "code",
   "execution_count": null,
   "id": "2d401e55-9a0d-4633-a898-2e64556ed141",
   "metadata": {},
   "outputs": [],
   "source": [
    "train = np.array(pd.read_csv(\n",
    "    '../../data/bank-note/train.csv',\n",
    "    names=['variance', 'skewness', 'curtosis', 'entropy', 'y']\n",
    "))"
   ]
  },
  {
   "cell_type": "code",
   "execution_count": null,
   "id": "9add3bbd-e54d-47a5-92bb-86d4fc650bab",
   "metadata": {},
   "outputs": [],
   "source": [
    "# need to map labels from 0,1 to -1,1\n",
    "def map_labels(y01):\n",
    "    return 2 * (y01-0.5)"
   ]
  },
  {
   "cell_type": "code",
   "execution_count": null,
   "id": "230f1d1c-8bb2-4b33-bed6-75c5f6f9d1e3",
   "metadata": {},
   "outputs": [],
   "source": [
    "X = train[:,:-1].T\n",
    "y = map_labels(train[:,-1])"
   ]
  },
  {
   "cell_type": "code",
   "execution_count": null,
   "id": "1a732d58-9fce-4ac5-a09a-f36d0ecd86e5",
   "metadata": {},
   "outputs": [],
   "source": [
    "primal = Primal(X, y, lambda x: x**2, C=1)"
   ]
  },
  {
   "cell_type": "code",
   "execution_count": null,
   "id": "14aab99e-bff4-4391-81c2-d4f4ea49ca8c",
   "metadata": {},
   "outputs": [],
   "source": [
    "primal.sgd()"
   ]
  },
  {
   "cell_type": "code",
   "execution_count": null,
   "id": "bef326f2-6d3d-4066-b442-efb16210466f",
   "metadata": {},
   "outputs": [],
   "source": [
    "test = np.array(pd.read_csv(\n",
    "    '../../data/bank-note/test.csv',\n",
    "    names=['variance', 'skewness', 'curtosis', 'entropy', 'y']\n",
    "))"
   ]
  },
  {
   "cell_type": "code",
   "execution_count": null,
   "id": "c518d0fd-fbd6-4756-bd55-86380d5f4211",
   "metadata": {},
   "outputs": [],
   "source": [
    "primal.predict(test[0,:-1])"
   ]
  },
  {
   "cell_type": "code",
   "execution_count": null,
   "id": "c0820e33-748b-4ad5-af41-669552d71970",
   "metadata": {},
   "outputs": [],
   "source": [
    "test[0,:-1].shape"
   ]
  },
  {
   "cell_type": "code",
   "execution_count": null,
   "id": "a75eec63-080e-427e-bba9-fe07f03ec906",
   "metadata": {},
   "outputs": [],
   "source": [
    "primal.X.shape"
   ]
  },
  {
   "cell_type": "code",
   "execution_count": null,
   "id": "b7234532-9393-4f39-8ba5-be5fbe821525",
   "metadata": {},
   "outputs": [],
   "source": [
    "primal.w.shape"
   ]
  },
  {
   "cell_type": "code",
   "execution_count": null,
   "id": "bd58be2d-2bda-4bd0-89db-5d3f1f24ff2c",
   "metadata": {},
   "outputs": [],
   "source": []
  }
 ],
 "metadata": {
  "kernelspec": {
   "display_name": "Python 3 (ipykernel)",
   "language": "python",
   "name": "python3"
  },
  "language_info": {
   "codemirror_mode": {
    "name": "ipython",
    "version": 3
   },
   "file_extension": ".py",
   "mimetype": "text/x-python",
   "name": "python",
   "nbconvert_exporter": "python",
   "pygments_lexer": "ipython3",
   "version": "3.10.8"
  }
 },
 "nbformat": 4,
 "nbformat_minor": 5
}
