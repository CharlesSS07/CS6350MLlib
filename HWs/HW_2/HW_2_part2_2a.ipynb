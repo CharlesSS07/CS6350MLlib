{
 "cells": [
  {
   "cell_type": "code",
   "execution_count": 1,
   "id": "403687d6-ed40-4600-a9d7-4e921c4c057d",
   "metadata": {},
   "outputs": [],
   "source": [
    "import sys\n",
    "sys.path.append('../../../')"
   ]
  },
  {
   "cell_type": "code",
   "execution_count": 2,
   "id": "eafde5a4-ccfe-400f-b338-e0327fa3a089",
   "metadata": {},
   "outputs": [
    {
     "name": "stdout",
     "output_type": "stream",
     "text": [
      "sum of D 1.0000000000000002\n",
      "<class 'dict'>\n"
     ]
    },
    {
     "ename": "TypeError",
     "evalue": "string indices must be integers",
     "output_type": "error",
     "traceback": [
      "\u001b[0;31m---------------------------------------------------------------------------\u001b[0m",
      "\u001b[0;31mTypeError\u001b[0m                                 Traceback (most recent call last)",
      "File \u001b[0;32m~/CS6350MLlib/HWs/HW_2/HW_2_part2_2a.py:137\u001b[0m\n\u001b[1;32m    127\u001b[0m     model \u001b[38;5;241m=\u001b[39m ID3(\n\u001b[1;32m    128\u001b[0m         data,\n\u001b[1;32m    129\u001b[0m         \u001b[38;5;124m'\u001b[39m\u001b[38;5;124my\u001b[39m\u001b[38;5;124m'\u001b[39m,\n\u001b[0;32m   (...)\u001b[0m\n\u001b[1;32m    133\u001b[0m         max_depth\u001b[38;5;241m=\u001b[39m\u001b[38;5;241m2\u001b[39m \u001b[38;5;66;03m# make this a stump\u001b[39;00m\n\u001b[1;32m    134\u001b[0m     )\n\u001b[1;32m    135\u001b[0m     \u001b[38;5;28;01mreturn\u001b[39;00m BoostableDecisionTreeClassifier(model)\n\u001b[0;32m--> 137\u001b[0m b \u001b[38;5;241m=\u001b[39m \u001b[43mBooster\u001b[49m\u001b[43m(\u001b[49m\u001b[43mfind_classifier_callback\u001b[49m\u001b[38;5;241;43m=\u001b[39;49m\u001b[43mfind_classifier_callback\u001b[49m\u001b[43m,\u001b[49m\u001b[43m \u001b[49m\u001b[43miterations\u001b[49m\u001b[38;5;241;43m=\u001b[39;49m\u001b[38;5;241;43m10\u001b[39;49m\u001b[43m,\u001b[49m\u001b[43m \u001b[49m\u001b[43mlabels\u001b[49m\u001b[38;5;241;43m=\u001b[39;49m\u001b[43mtrain_discretized\u001b[49m\u001b[43m[\u001b[49m\u001b[38;5;124;43m'\u001b[39;49m\u001b[38;5;124;43my\u001b[39;49m\u001b[38;5;124;43m'\u001b[39;49m\u001b[43m]\u001b[49m\u001b[43m,\u001b[49m\u001b[43m \u001b[49m\u001b[43mdata\u001b[49m\u001b[38;5;241;43m=\u001b[39;49m\u001b[43mtrain_discretized\u001b[49m\u001b[43m)\u001b[49m\n",
      "File \u001b[0;32m~/CS6350MLlib/HWs/HW_2/../../EnsembleLearning/Boosting.py:39\u001b[0m, in \u001b[0;36mBooster.__init__\u001b[0;34m(self, find_classifier_callback, iterations, labels, data)\u001b[0m\n\u001b[1;32m     36\u001b[0m classifier \u001b[38;5;241m=\u001b[39m find_classifier_callback(data)\n\u001b[1;32m     37\u001b[0m \u001b[38;5;28mself\u001b[39m\u001b[38;5;241m.\u001b[39mclassifiers\u001b[38;5;241m.\u001b[39mappend(classifier)\n\u001b[0;32m---> 39\u001b[0m preds \u001b[38;5;241m=\u001b[39m \u001b[38;5;28;43mlist\u001b[39;49m\u001b[43m(\u001b[49m\u001b[38;5;28;43mmap\u001b[39;49m\u001b[43m(\u001b[49m\u001b[43mclassifier\u001b[49m\u001b[43m,\u001b[49m\u001b[43m \u001b[49m\u001b[43mdata\u001b[49m\u001b[43m)\u001b[49m\u001b[43m)\u001b[49m\n\u001b[1;32m     41\u001b[0m epsilon \u001b[38;5;241m=\u001b[39m (\u001b[38;5;241m1\u001b[39m\u001b[38;5;241m/\u001b[39m\u001b[38;5;241m2\u001b[39m) \u001b[38;5;241m-\u001b[39m ( (\u001b[38;5;241m1\u001b[39m\u001b[38;5;241m/\u001b[39m\u001b[38;5;241m2\u001b[39m) \u001b[38;5;241m*\u001b[39m np\u001b[38;5;241m.\u001b[39msum([ D_i \u001b[38;5;241m*\u001b[39m y_i \u001b[38;5;241m*\u001b[39m p_i \u001b[38;5;28;01mfor\u001b[39;00m D_i, y_i, p_i \u001b[38;5;129;01min\u001b[39;00m \u001b[38;5;28mzip\u001b[39m(D, labels, preds) ]))\n\u001b[1;32m     42\u001b[0m \u001b[38;5;66;03m# from page 25 of https://users.cs.utah.edu/~zhe/teach/pdf/ensemble-learning.pdf\u001b[39;00m\n",
      "File \u001b[0;32m~/CS6350MLlib/HWs/HW_2/../../EnsembleLearning/Boosting.py:16\u001b[0m, in \u001b[0;36mAbstractWeakBoostableClassifier.__call__\u001b[0;34m(self, x)\u001b[0m\n\u001b[1;32m     15\u001b[0m \u001b[38;5;28;01mdef\u001b[39;00m \u001b[38;5;21m__call__\u001b[39m(\u001b[38;5;28mself\u001b[39m, x):\n\u001b[0;32m---> 16\u001b[0m     \u001b[38;5;28;01mreturn\u001b[39;00m \u001b[38;5;28;43mself\u001b[39;49m\u001b[38;5;241;43m.\u001b[39;49m\u001b[43mpredict\u001b[49m\u001b[43m(\u001b[49m\u001b[43mx\u001b[49m\u001b[43m)\u001b[49m\n",
      "File \u001b[0;32m~/CS6350MLlib/HWs/HW_2/../../EnsembleLearning/Boosting.py:13\u001b[0m, in \u001b[0;36mAbstractWeakBoostableClassifier.predict\u001b[0;34m(self, x)\u001b[0m\n\u001b[1;32m     12\u001b[0m \u001b[38;5;28;01mdef\u001b[39;00m \u001b[38;5;21mpredict\u001b[39m(\u001b[38;5;28mself\u001b[39m, x):\n\u001b[0;32m---> 13\u001b[0m     \u001b[38;5;28;01mreturn\u001b[39;00m np\u001b[38;5;241m.\u001b[39msign(\u001b[38;5;28;43mself\u001b[39;49m\u001b[38;5;241;43m.\u001b[39;49m\u001b[43m__predict__\u001b[49m\u001b[43m(\u001b[49m\u001b[43mx\u001b[49m\u001b[43m)\u001b[49m)\n",
      "File \u001b[0;32m~/CS6350MLlib/HWs/HW_2/HW_2_part2_2a.py:122\u001b[0m, in \u001b[0;36mBoostableDecisionTreeClassifier.__predict__\u001b[0;34m(self, x)\u001b[0m\n\u001b[1;32m    119\u001b[0m keys \u001b[38;5;241m=\u001b[39m \u001b[38;5;28mlist\u001b[39m(node\u001b[38;5;241m.\u001b[39mkeys())\n\u001b[1;32m    120\u001b[0m attribute \u001b[38;5;241m=\u001b[39m keys[\u001b[38;5;241m0\u001b[39m]\u001b[38;5;241m.\u001b[39msplit(\u001b[38;5;124m'\u001b[39m\u001b[38;5;124m=\u001b[39m\u001b[38;5;124m'\u001b[39m)[\u001b[38;5;241m0\u001b[39m]\n\u001b[0;32m--> 122\u001b[0m value \u001b[38;5;241m=\u001b[39m \u001b[43mx\u001b[49m\u001b[43m[\u001b[49m\u001b[43mattribute\u001b[49m\u001b[43m]\u001b[49m\n\u001b[1;32m    124\u001b[0m node \u001b[38;5;241m=\u001b[39m node[attribute\u001b[38;5;241m+\u001b[39m\u001b[38;5;124m'\u001b[39m\u001b[38;5;124m=\u001b[39m\u001b[38;5;124m'\u001b[39m\u001b[38;5;241m+\u001b[39m\u001b[38;5;28mstr\u001b[39m(value)]\n",
      "\u001b[0;31mTypeError\u001b[0m: string indices must be integers"
     ]
    }
   ],
   "source": [
    "run ./HW_2_part2_2a.py"
   ]
  },
  {
   "cell_type": "code",
   "execution_count": null,
   "id": "9c2b8470-4537-44fa-abb7-1e7fe0721960",
   "metadata": {},
   "outputs": [],
   "source": []
  }
 ],
 "metadata": {
  "kernelspec": {
   "display_name": "Python 3 (ipykernel)",
   "language": "python",
   "name": "python3"
  },
  "language_info": {
   "codemirror_mode": {
    "name": "ipython",
    "version": 3
   },
   "file_extension": ".py",
   "mimetype": "text/x-python",
   "name": "python",
   "nbconvert_exporter": "python",
   "pygments_lexer": "ipython3",
   "version": "3.10.8"
  }
 },
 "nbformat": 4,
 "nbformat_minor": 5
}
