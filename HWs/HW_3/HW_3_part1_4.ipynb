{
 "cells": [
  {
   "cell_type": "code",
   "execution_count": 1,
   "id": "3c350cd4-d7c9-4d3c-9910-bbfb001da718",
   "metadata": {},
   "outputs": [
    {
     "name": "stdout",
     "output_type": "stream",
     "text": [
      "HW3 Practice Problem (4)\n"
     ]
    }
   ],
   "source": [
    "import pandas as pd\n",
    "import numpy as np\n",
    "\n",
    "import sys\n",
    "sys.path.append('../../')\n",
    "\n",
    "print('HW3 Practice Problem (4)')\n",
    "\n",
    "from Perceptron.Perceptrons import StandardPerceptron"
   ]
  },
  {
   "cell_type": "code",
   "execution_count": 2,
   "id": "60438394-0b88-4f39-8f21-1c7a47eb2915",
   "metadata": {},
   "outputs": [],
   "source": [
    "def encode_binary(number, num_bits):\n",
    "    binary_representation = format(number, f\"0{num_bits}b\")\n",
    "    binary_list = [bit == '1' for bit in binary_representation]\n",
    "    return binary_list"
   ]
  },
  {
   "cell_type": "code",
   "execution_count": 3,
   "id": "f93baaf1-aef8-46c3-85d8-b4a511258b28",
   "metadata": {},
   "outputs": [],
   "source": [
    "\n",
    "def function(x):\n",
    "    half_point = len(x)//2\n",
    "    return np.any(x[:half_point]) or np.any(np.bitwise_not(x[half_point:]))\n",
    "\n",
    "def generate_datapoints(n):\n",
    "    assert n%2==0, 'n must be even'\n",
    "    k = n//2\n",
    "    \n",
    "    datapoints = []\n",
    "    \n",
    "    for i in range(0, 2**n):\n",
    "        x = encode_binary(i, n)\n",
    "        y = function(x)\n",
    "        datapoints.append(np.concatenate([x, [y]]))\n",
    "    \n",
    "    return np.array(datapoints)\n",
    "\n",
    "data = generate_datapoints(6)"
   ]
  },
  {
   "cell_type": "code",
   "execution_count": 12,
   "id": "f0419784-f2dc-4bdc-8ffa-e82f97a247e6",
   "metadata": {},
   "outputs": [
    {
     "data": {
      "text/plain": [
       "array([[False, False, False, False, False, False]])"
      ]
     },
     "execution_count": 12,
     "metadata": {},
     "output_type": "execute_result"
    }
   ],
   "source": [
    "data[0:1,:-1]"
   ]
  },
  {
   "cell_type": "code",
   "execution_count": 5,
   "id": "4578690a-6229-4e2c-97ae-59b37552fa28",
   "metadata": {},
   "outputs": [],
   "source": [
    "def map_labels(yTF):\n",
    "    lookup = {True:1, False:-1}\n",
    "    return np.array([ lookup[k] for k in yTF ])\n",
    "\n",
    "p = StandardPerceptron(\n",
    "    data=data[0:1,:-1], # slice the data to only have one example so we have 1 iteration\n",
    "    labels=map_labels(data[0:1,-1]),\n",
    "    r=0.0001,\n",
    "    T=1\n",
    ")"
   ]
  },
  {
   "cell_type": "code",
   "execution_count": 9,
   "id": "20df4b6c-8c4f-45b0-a1b1-147b6592c3c5",
   "metadata": {},
   "outputs": [
    {
     "data": {
      "text/plain": [
       "array([0.    , 0.    , 0.    , 0.    , 0.    , 0.    , 0.0001])"
      ]
     },
     "execution_count": 9,
     "metadata": {},
     "output_type": "execute_result"
    }
   ],
   "source": [
    "p.w"
   ]
  },
  {
   "cell_type": "code",
   "execution_count": 6,
   "id": "1539d6ef-0317-4cdd-85db-275c55c00954",
   "metadata": {},
   "outputs": [],
   "source": [
    "y_prime = p.predict(data)"
   ]
  },
  {
   "cell_type": "code",
   "execution_count": 7,
   "id": "2c9e5048-afbb-44b6-87fa-99d45b90815b",
   "metadata": {},
   "outputs": [
    {
     "data": {
      "text/plain": [
       "array([1., 1., 1., 1., 1., 1., 1., 0., 1., 1., 1., 1., 1., 1., 1., 1., 1.,\n",
       "       1., 1., 1., 1., 1., 1., 1., 1., 1., 1., 1., 1., 1., 1., 1., 1., 1.,\n",
       "       1., 1., 1., 1., 1., 1., 1., 1., 1., 1., 1., 1., 1., 1., 1., 1., 1.,\n",
       "       1., 1., 1., 1., 1., 1., 1., 1., 1., 1., 1., 1., 1.])"
      ]
     },
     "execution_count": 7,
     "metadata": {},
     "output_type": "execute_result"
    }
   ],
   "source": [
    "y_prime"
   ]
  },
  {
   "cell_type": "code",
   "execution_count": 8,
   "id": "5f54aa20-4b94-419f-911a-dd7ae825d2ef",
   "metadata": {},
   "outputs": [
    {
     "data": {
      "text/plain": [
       "array([ 1,  1,  1,  1,  1,  1,  1, -1,  1,  1,  1,  1,  1,  1,  1,  1,  1,\n",
       "        1,  1,  1,  1,  1,  1,  1,  1,  1,  1,  1,  1,  1,  1,  1,  1,  1,\n",
       "        1,  1,  1,  1,  1,  1,  1,  1,  1,  1,  1,  1,  1,  1,  1,  1,  1,\n",
       "        1,  1,  1,  1,  1,  1,  1,  1,  1,  1,  1,  1,  1])"
      ]
     },
     "execution_count": 8,
     "metadata": {},
     "output_type": "execute_result"
    }
   ],
   "source": [
    "map_labels(data[:,-1])"
   ]
  },
  {
   "cell_type": "code",
   "execution_count": null,
   "id": "92aa94b5-5931-4e05-a00e-8b9863526de1",
   "metadata": {},
   "outputs": [],
   "source": []
  }
 ],
 "metadata": {
  "kernelspec": {
   "display_name": "Python 3 (ipykernel)",
   "language": "python",
   "name": "python3"
  },
  "language_info": {
   "codemirror_mode": {
    "name": "ipython",
    "version": 3
   },
   "file_extension": ".py",
   "mimetype": "text/x-python",
   "name": "python",
   "nbconvert_exporter": "python",
   "pygments_lexer": "ipython3",
   "version": "3.10.8"
  }
 },
 "nbformat": 4,
 "nbformat_minor": 5
}
