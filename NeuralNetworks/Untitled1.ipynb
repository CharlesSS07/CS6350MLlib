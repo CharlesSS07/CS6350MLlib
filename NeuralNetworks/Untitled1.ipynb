{
 "cells": [
  {
   "cell_type": "code",
   "execution_count": 1,
   "id": "0c5ff40f-4f78-45ec-9892-059034e4b9f2",
   "metadata": {},
   "outputs": [
    {
     "ename": "SyntaxError",
     "evalue": "invalid syntax (3304002691.py, line 1)",
     "output_type": "error",
     "traceback": [
      "\u001b[0;36m  Cell \u001b[0;32mIn [1], line 1\u001b[0;36m\u001b[0m\n\u001b[0;31m    class $:\u001b[0m\n\u001b[0m          ^\u001b[0m\n\u001b[0;31mSyntaxError\u001b[0m\u001b[0;31m:\u001b[0m invalid syntax\n"
     ]
    }
   ],
   "source": [
    "class Operation:\n",
    "    \n",
    "    def __init__(self):\n",
    "        pass\n",
    "    \n",
    "    def run():\n",
    "        pass\n",
    "    \n",
    "    def d():\n",
    "        pass\n",
    "    \n",
    "class Constant(Operation):\n",
    "    \n",
    "    def __init__(self, value):\n",
    "        self.value = value\n",
    "        \n",
    "    def run(self):\n",
    "        return self.value\n",
    "    \n",
    "    def d(self):\n",
    "        return 0\n",
    "    \n",
    "class Variable(Operation):\n",
    "    \n",
    "    def __init__(self, value):\n",
    "        self.value = value\n",
    "        \n",
    "    def run(self):\n",
    "        return self.value\n",
    "    \n",
    "    def d(self):\n",
    "        return 1\n",
    "\n",
    "class Add(Operation):\n",
    "    \n",
    "    def __init__(self, x):\n",
    "        self.x = x\n",
    "        \n",
    "    def run(self, other):\n",
    "        return self.x + other.run()\n",
    "    \n",
    "    def d(self, other):\n",
    "        return 0 + other.d()\n",
    "    \n",
    "class Multiply(Operation):\n",
    "    \n",
    "    def __init__(self, x):\n",
    "        self.x = x\n",
    "        \n",
    "    def run(self, other):\n",
    "        return self.x * other.run()\n",
    "    \n",
    "    def d(self, other):\n",
    "        return self.x * other.d()\n",
    "\n",
    "class Exp(Operation):\n",
    "    \n",
    "    def __init__(self):\n",
    "        self.x = x\n",
    "        \n",
    "    def run(self, other):\n",
    "        return np.exp(other.run())\n",
    "    \n",
    "    def d(self, other):\n",
    "        return np.exp(other.run()) * other.d()\n",
    "\n",
    "class Tracker:\n",
    "    \n",
    "    def __init__(self, parent, operation):\n",
    "        self.parent = parent\n",
    "        self.operation = operation\n",
    "        \n",
    "    def apply(operation, inputs):\n",
    "        return Tracker(self, operation(*inputs)\n",
    "        \n",
    "    def evaluate(self, inputs):\n",
    "        stack = []\n",
    "        found_end = False\n",
    "        while not found_end:\n",
    "            "
   ]
  },
  {
   "cell_type": "code",
   "execution_count": null,
   "id": "fa34af3a-9d1d-4c9c-b2fe-9c0f8a41a652",
   "metadata": {},
   "outputs": [],
   "source": [
    "a = Tracker()"
   ]
  }
 ],
 "metadata": {
  "kernelspec": {
   "display_name": "Python 3 (ipykernel)",
   "language": "python",
   "name": "python3"
  },
  "language_info": {
   "codemirror_mode": {
    "name": "ipython",
    "version": 3
   },
   "file_extension": ".py",
   "mimetype": "text/x-python",
   "name": "python",
   "nbconvert_exporter": "python",
   "pygments_lexer": "ipython3",
   "version": "3.10.8"
  }
 },
 "nbformat": 4,
 "nbformat_minor": 5
}
