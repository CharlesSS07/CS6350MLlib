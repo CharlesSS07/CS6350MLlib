{
 "cells": [
  {
   "cell_type": "code",
   "execution_count": 1,
   "id": "8b705fa0-9f77-45e3-8981-edd1db7c3595",
   "metadata": {},
   "outputs": [],
   "source": [
    "import numpy as np"
   ]
  },
  {
   "cell_type": "code",
   "execution_count": 2,
   "id": "133454f9-ba34-4fb4-97a1-ac93d716928e",
   "metadata": {},
   "outputs": [],
   "source": [
    "import sys\n",
    "sys.path.append('./')"
   ]
  },
  {
   "cell_type": "code",
   "execution_count": 3,
   "id": "3eca8ada-8ef6-4896-a9db-27b38f2f5d07",
   "metadata": {},
   "outputs": [],
   "source": [
    "import layers"
   ]
  },
  {
   "cell_type": "code",
   "execution_count": 4,
   "id": "56a3fbec-95c9-459d-89e3-9cc634625cf5",
   "metadata": {},
   "outputs": [],
   "source": [
    "import BackProp"
   ]
  },
  {
   "cell_type": "code",
   "execution_count": 5,
   "id": "e1af1fc5-ba48-403e-b509-e3a3b4b41b36",
   "metadata": {},
   "outputs": [],
   "source": [
    "z1 = layers.DenseLayer(layers.activations.sigmoid, layers.activations.d_sigmoid_dx, use_bias=True)\n",
    "z2 = layers.DenseLayer(layers.activations.sigmoid, layers.activations.d_sigmoid_dx, use_bias=True)\n",
    "y =  layers.DenseLayer(layers.activations.identity, layers.activations.d_identity_dx)\n",
    "\n",
    "z1.w = np.array(\n",
    "    [\n",
    "        [-1, -2, -3],\n",
    "        [ 1,  2,  3]\n",
    "    ]\n",
    ")\n",
    "z2.w = np.array(\n",
    "    [\n",
    "        [-1, -2, -3],\n",
    "        [ 1,  2,  3]\n",
    "    ]\n",
    ")\n",
    "y.w = np.array(\n",
    "    [\n",
    "        [ -1,  2, -1.5]\n",
    "    ]\n",
    ")"
   ]
  },
  {
   "cell_type": "code",
   "execution_count": 6,
   "id": "a0f862b4-86c6-429a-9509-97165ed85cba",
   "metadata": {},
   "outputs": [],
   "source": [
    "dLdws = BackProp.compute_gradient_via_backprop(\n",
    "    layers=[z1, z2, y],\n",
    "    x=np.array([1, 1, 1]),\n",
    "    y_true=1,\n",
    "    dLdy_fn=lambda Y, y_true: Y-y_true # derivative of arbitrary loss function\n",
    ")"
   ]
  },
  {
   "cell_type": "code",
   "execution_count": 7,
   "id": "7556901e-ba31-44fc-b79d-97832ce65c5a",
   "metadata": {},
   "outputs": [],
   "source": [
    "import pandas as pd"
   ]
  },
  {
   "cell_type": "code",
   "execution_count": 8,
   "id": "ee3b0ccc-61cc-4b3e-9b56-5799a6284253",
   "metadata": {},
   "outputs": [],
   "source": [
    "train = pd.read_csv(\n",
    "    '../data/bank-note/train.csv',\n",
    "    names=['variance', 'skewness', 'curtosis', 'entropy', 'y']\n",
    ")"
   ]
  },
  {
   "cell_type": "code",
   "execution_count": 9,
   "id": "ac981acb-f833-41a3-af76-f45e6d1067a5",
   "metadata": {},
   "outputs": [
    {
     "data": {
      "text/html": [
       "<div>\n",
       "<style scoped>\n",
       "    .dataframe tbody tr th:only-of-type {\n",
       "        vertical-align: middle;\n",
       "    }\n",
       "\n",
       "    .dataframe tbody tr th {\n",
       "        vertical-align: top;\n",
       "    }\n",
       "\n",
       "    .dataframe thead th {\n",
       "        text-align: right;\n",
       "    }\n",
       "</style>\n",
       "<table border=\"1\" class=\"dataframe\">\n",
       "  <thead>\n",
       "    <tr style=\"text-align: right;\">\n",
       "      <th></th>\n",
       "      <th>variance</th>\n",
       "      <th>skewness</th>\n",
       "      <th>curtosis</th>\n",
       "      <th>entropy</th>\n",
       "      <th>y</th>\n",
       "    </tr>\n",
       "  </thead>\n",
       "  <tbody>\n",
       "    <tr>\n",
       "      <th>0</th>\n",
       "      <td>3.848100</td>\n",
       "      <td>10.15390</td>\n",
       "      <td>-3.85610</td>\n",
       "      <td>-4.22280</td>\n",
       "      <td>0</td>\n",
       "    </tr>\n",
       "    <tr>\n",
       "      <th>1</th>\n",
       "      <td>4.004700</td>\n",
       "      <td>0.45937</td>\n",
       "      <td>1.36210</td>\n",
       "      <td>1.61810</td>\n",
       "      <td>0</td>\n",
       "    </tr>\n",
       "    <tr>\n",
       "      <th>2</th>\n",
       "      <td>-0.048008</td>\n",
       "      <td>-1.60370</td>\n",
       "      <td>8.47560</td>\n",
       "      <td>0.75558</td>\n",
       "      <td>0</td>\n",
       "    </tr>\n",
       "    <tr>\n",
       "      <th>3</th>\n",
       "      <td>-1.266700</td>\n",
       "      <td>2.81830</td>\n",
       "      <td>-2.42600</td>\n",
       "      <td>-1.88620</td>\n",
       "      <td>1</td>\n",
       "    </tr>\n",
       "    <tr>\n",
       "      <th>4</th>\n",
       "      <td>2.203400</td>\n",
       "      <td>5.99470</td>\n",
       "      <td>0.53009</td>\n",
       "      <td>0.84998</td>\n",
       "      <td>0</td>\n",
       "    </tr>\n",
       "    <tr>\n",
       "      <th>...</th>\n",
       "      <td>...</td>\n",
       "      <td>...</td>\n",
       "      <td>...</td>\n",
       "      <td>...</td>\n",
       "      <td>...</td>\n",
       "    </tr>\n",
       "    <tr>\n",
       "      <th>867</th>\n",
       "      <td>0.273310</td>\n",
       "      <td>4.87730</td>\n",
       "      <td>-4.91940</td>\n",
       "      <td>-5.81980</td>\n",
       "      <td>1</td>\n",
       "    </tr>\n",
       "    <tr>\n",
       "      <th>868</th>\n",
       "      <td>1.063700</td>\n",
       "      <td>3.69570</td>\n",
       "      <td>-4.15940</td>\n",
       "      <td>-1.93790</td>\n",
       "      <td>1</td>\n",
       "    </tr>\n",
       "    <tr>\n",
       "      <th>869</th>\n",
       "      <td>-1.242400</td>\n",
       "      <td>-1.71750</td>\n",
       "      <td>-0.52553</td>\n",
       "      <td>-0.21036</td>\n",
       "      <td>1</td>\n",
       "    </tr>\n",
       "    <tr>\n",
       "      <th>870</th>\n",
       "      <td>1.837300</td>\n",
       "      <td>6.12920</td>\n",
       "      <td>0.84027</td>\n",
       "      <td>0.55257</td>\n",
       "      <td>0</td>\n",
       "    </tr>\n",
       "    <tr>\n",
       "      <th>871</th>\n",
       "      <td>-2.014900</td>\n",
       "      <td>3.68740</td>\n",
       "      <td>-1.93850</td>\n",
       "      <td>-3.89180</td>\n",
       "      <td>1</td>\n",
       "    </tr>\n",
       "  </tbody>\n",
       "</table>\n",
       "<p>872 rows × 5 columns</p>\n",
       "</div>"
      ],
      "text/plain": [
       "     variance  skewness  curtosis  entropy  y\n",
       "0    3.848100  10.15390  -3.85610 -4.22280  0\n",
       "1    4.004700   0.45937   1.36210  1.61810  0\n",
       "2   -0.048008  -1.60370   8.47560  0.75558  0\n",
       "3   -1.266700   2.81830  -2.42600 -1.88620  1\n",
       "4    2.203400   5.99470   0.53009  0.84998  0\n",
       "..        ...       ...       ...      ... ..\n",
       "867  0.273310   4.87730  -4.91940 -5.81980  1\n",
       "868  1.063700   3.69570  -4.15940 -1.93790  1\n",
       "869 -1.242400  -1.71750  -0.52553 -0.21036  1\n",
       "870  1.837300   6.12920   0.84027  0.55257  0\n",
       "871 -2.014900   3.68740  -1.93850 -3.89180  1\n",
       "\n",
       "[872 rows x 5 columns]"
      ]
     },
     "execution_count": 9,
     "metadata": {},
     "output_type": "execute_result"
    }
   ],
   "source": [
    "train"
   ]
  },
  {
   "cell_type": "code",
   "execution_count": 10,
   "id": "51099b67-1499-4d14-aa4c-6b3b6baa8e11",
   "metadata": {},
   "outputs": [
    {
     "data": {
      "text/plain": [
       "((872, 5), (872,))"
      ]
     },
     "execution_count": 10,
     "metadata": {},
     "output_type": "execute_result"
    }
   ],
   "source": [
    "X = np.array(train)[:,:-1]\n",
    "X = np.concatenate([np.ones(shape=X.shape[0])[np.newaxis].T, X], axis=1) # for bias trick\n",
    "Y = (np.array(train)[:,-1] * 2) - 1\n",
    "X.shape, Y.shape"
   ]
  },
  {
   "cell_type": "code",
   "execution_count": 79,
   "id": "380da5ef-70b8-47ab-b454-b8e4948d9bbf",
   "metadata": {
    "tags": []
   },
   "outputs": [],
   "source": [
    "def build_nn(width):\n",
    "    a = layers.DenseLayer(layers.activations.sigmoid, layers.activations.d_sigmoid_dx)\n",
    "    b = layers.DenseLayer(layers.activations.sigmoid, layers.activations.d_sigmoid_dx)\n",
    "    c =  layers.DenseLayer(layers.activations.sigmoid, layers.activations.d_sigmoid_dx)\n",
    "\n",
    "    a.w = np.random.normal(size=[width, X.shape[1]])\n",
    "    b.w = np.random.normal(size=[width, width])\n",
    "    c.w = np.random.normal(size=[1, width])\n",
    "    \n",
    "    print(a.w.shape, b.w.shape, c.w.shape)\n",
    "    \n",
    "    return [a, b, c]"
   ]
  },
  {
   "cell_type": "code",
   "execution_count": 80,
   "id": "0fef5546-b6e7-4aea-8703-793ba5b2d8b1",
   "metadata": {},
   "outputs": [],
   "source": [
    "def lr(t):\n",
    "    lr_0 = 0.01\n",
    "    lr_d = 1\n",
    "    return lr_0/(1+((lr_0/lr_d)*t))"
   ]
  },
  {
   "cell_type": "code",
   "execution_count": 81,
   "id": "115ae746-5dfa-4aa7-9151-91a4d8934a1a",
   "metadata": {},
   "outputs": [],
   "source": [
    "def loss(y, y_true):\n",
    "    return (1/2) * ((y-y_true) **2)"
   ]
  },
  {
   "cell_type": "code",
   "execution_count": 87,
   "id": "d533a275-95c2-4361-a482-287e59547eb4",
   "metadata": {
    "tags": []
   },
   "outputs": [
    {
     "name": "stdout",
     "output_type": "stream",
     "text": [
      "(10, 5) (10, 10) (1, 10)\n"
     ]
    }
   ],
   "source": [
    "def train_nn(width=10, T=30, lr_sched=lr):\n",
    "    nn_layers = build_nn(width)\n",
    "    mean_loss = []\n",
    "    for t in range(0, T):\n",
    "        lr = lr_sched(t)\n",
    "        X_samples = list(range(0, len(X)))\n",
    "        np.random.shuffle(X_samples)\n",
    "        for i in X_samples:\n",
    "            dLdws = reversed(BackProp.compute_gradient_via_backprop(\n",
    "                layers=nn_layers,\n",
    "                x=X[i],\n",
    "                y_true=Y[i],\n",
    "                dLdy_fn=lambda _Y, _y_true: _Y-_y_true # derivative of arbitrary loss function\n",
    "            ))\n",
    "            # do the update\n",
    "            for dLdw, layer in zip(dLdws, nn_layers):\n",
    "                layer.w -= lr * dLdw\n",
    "        mean_loss.append(\n",
    "            np.mean(loss(np.array([ layers.evaluate_nn(nn_layers, x) for x in X ]), Y)))\n",
    "    return mean_loss\n",
    "mean_loss = train_nn()"
   ]
  },
  {
   "cell_type": "code",
   "execution_count": 88,
   "id": "0678dd99-aac6-4c83-be26-bab1a20ed664",
   "metadata": {},
   "outputs": [],
   "source": [
    "import matplotlib.pyplot as plt"
   ]
  },
  {
   "cell_type": "code",
   "execution_count": 89,
   "id": "3e8f687e-a199-4ddc-afc8-4dbf53906354",
   "metadata": {},
   "outputs": [
    {
     "data": {
      "text/plain": [
       "[<matplotlib.lines.Line2D at 0x12f7d17b0>]"
      ]
     },
     "execution_count": 89,
     "metadata": {},
     "output_type": "execute_result"
    },
    {
     "data": {
      "image/png": "[encoded data removed]",
      "text/plain": [
       "<Figure size 640x480 with 1 Axes>"
      ]
     },
     "metadata": {},
     "output_type": "display_data"
    }
   ],
   "source": [
    "plt.plot(mean_loss)"
   ]
  },
  {
   "cell_type": "code",
   "execution_count": 85,
   "id": "6ac9b15b-9537-492a-b802-3b66ceffa53a",
   "metadata": {},
   "outputs": [
    {
     "name": "stdout",
     "output_type": "stream",
     "text": [
      "(10, 5) (10, 10) (1, 10)\n"
     ]
    }
   ],
   "source": [
    "def lr2(t):\n",
    "    lr_0 = 0.001\n",
    "    lr_d = 1000\n",
    "    return lr_0/(1+((lr_0/lr_d)*t))\n",
    "mean_loss = train_nn(width=10, lr_sched=lr2)"
   ]
  },
  {
   "cell_type": "code",
   "execution_count": 91,
   "id": "b6cc82d3-7a8e-41ff-837a-9f0d363854fa",
   "metadata": {},
   "outputs": [
    {
     "data": {
      "text/plain": [
       "Text(0.5, 0, 'x')"
      ]
     },
     "execution_count": 91,
     "metadata": {},
     "output_type": "execute_result"
    },
    {
     "data": {
      "image/png": "[encoded data removed]",
      "text/plain": [
       "<Figure size 640x480 with 1 Axes>"
      ]
     },
     "metadata": {},
     "output_type": "display_data"
    }
   ],
   "source": [
    "plt.plot(mean_loss)\n",
    "plt.xlabel('x')"
   ]
  },
  {
   "cell_type": "code",
   "execution_count": null,
   "id": "f98fd243-6561-429a-822c-807dac6b9928",
   "metadata": {},
   "outputs": [],
   "source": []
  }
 ],
 "metadata": {
  "kernelspec": {
   "display_name": "Python 3 (ipykernel)",
   "language": "python",
   "name": "python3"
  },
  "language_info": {
   "codemirror_mode": {
    "name": "ipython",
    "version": 3
   },
   "file_extension": ".py",
   "mimetype": "text/x-python",
   "name": "python",
   "nbconvert_exporter": "python",
   "pygments_lexer": "ipython3",
   "version": "3.10.8"
  }
 },
 "nbformat": 4,
 "nbformat_minor": 5
}
