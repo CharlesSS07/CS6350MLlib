{
 "cells": [
  {
   "cell_type": "code",
   "execution_count": 1,
   "id": "a0ce3ccc-c2c2-494c-bc5b-1d63091b3754",
   "metadata": {},
   "outputs": [],
   "source": [
    "import numpy as np"
   ]
  },
  {
   "cell_type": "code",
   "execution_count": 13,
   "id": "dd9e50c2-19de-4caf-a4c9-ff7827f05f1d",
   "metadata": {},
   "outputs": [],
   "source": [
    "class Parameters():\n",
    "    \n",
    "    def __init__(self, parameter_values):\n",
    "        self.parameters = parameter_values\n",
    "        self.parent_units = set()\n",
    "        \n",
    "    def add_parent(self, parent):\n",
    "        self.parent_units.add(parent)\n",
    "    \n",
    "    def get_parameters():\n",
    "        return self.parameters"
   ]
  },
  {
   "cell_type": "code",
   "execution_count": null,
   "id": "4e9158f7-e69d-4d4b-87e2-6cc3c2602935",
   "metadata": {},
   "outputs": [],
   "source": [
    "class NeuronConnection():\n",
    "    \n",
    "    def __init__(self, from_unit:Neuron, to_unit:Neuron, weight):\n",
    "        self.from_unit = from_unit\n",
    "        self.to_unit = to_unit\n",
    "        self.weight = Parameters(weight)\n",
    "        self.weight.add_parent(self.from_unit)\n",
    "    "
   ]
  },
  {
   "cell_type": "code",
   "execution_count": 14,
   "id": "69d3c082-781c-4b5f-8440-b1ff62e47a4d",
   "metadata": {},
   "outputs": [],
   "source": [
    "class Neuron():\n",
    "    \n",
    "    def __init__(self, name):\n",
    "        self.name = name\n",
    "        self.energy_potential = 0\n",
    "        self.connections = []\n",
    "        self.activation_function = None\n",
    "    \n",
    "    def update(self, energy_potential):\n",
    "        self.energy_potential += energy_potential\n",
    "    \n",
    "    def fire(self):\n",
    "        \n",
    "        if self.activation_function != None:\n",
    "            current_energy_potential = self.activation_function(self.energy_potential)\n",
    "        else:\n",
    "            current_energy_potential = self.energy_potential\n",
    "        \n",
    "        for conn in self.connections:\n",
    "            conn.to_unit.update(conn.weight.get_parameters()*current_energy_potential)\n",
    "    \n",
    "    def flush_energy(self):\n",
    "        self.energy_potential = 0\n",
    "        for conn in self.connections:\n",
    "            conn.to_unit.flush_energy()\n",
    "    \n",
    "    def __repr__(self): # makes printing a neuron object reveal its name\n",
    "        return self.name"
   ]
  },
  {
   "cell_type": "code",
   "execution_count": 3,
   "id": "fe33d73d-b392-4c57-b034-04159d4e3519",
   "metadata": {},
   "outputs": [
    {
     "name": "stderr",
     "output_type": "stream",
     "text": [
      "/var/folders/hd/kdltsywn53jbp7lv3g1hld3w0000gn/T/ipykernel_49450/234028601.py:2: RuntimeWarning: overflow encountered in exp\n",
      "  return 1/(1+np.exp(-x))\n"
     ]
    },
    {
     "data": {
      "text/plain": [
       "(0.0, 0.5, 1.0)"
      ]
     },
     "execution_count": 3,
     "metadata": {},
     "output_type": "execute_result"
    }
   ],
   "source": [
    "def sigmoid(x):\n",
    "    return 1/(1+np.exp(-x))\n",
    "sigmoid(-1000), sigmoid(0), sigmoid(1000)"
   ]
  },
  {
   "cell_type": "code",
   "execution_count": 4,
   "id": "7cc4dd2b-ea16-47cb-8745-5d5328419755",
   "metadata": {},
   "outputs": [],
   "source": [
    "\n",
    "x = [Neuron('x0'), Neuron('x1'), Neuron('x2')]\n",
    "z1 = [Neuron('z1_0'), Neuron('z1_1'), Neuron('z1_2')]\n",
    "z2 = [Neuron('z2_0'), Neuron('z2_1'), Neuron('z2_2')]\n",
    "y = Neuron('y')\n"
   ]
  },
  {
   "cell_type": "code",
   "execution_count": 5,
   "id": "3e6ff713-3c85-44d0-a16b-c3c5b370ec65",
   "metadata": {},
   "outputs": [],
   "source": [
    "x[0].connections = [ # w^1_01, w^1_02\n",
    "    NeuronConnection(\n",
    "        from_unit=x[0],\n",
    "        to_unit=z1[1],\n",
    "        weight=-1\n",
    "    ),\n",
    "    NeuronConnection(\n",
    "        from_unit=x[0],\n",
    "        to_unit=z1[2],\n",
    "        weight=1\n",
    "    )\n",
    "]\n",
    "# x[0].activation_function = sigmoid\n",
    "x[1].connections = [ # w^1_11, w^1_12\n",
    "    NeuronConnection(\n",
    "        from_unit=x[1],\n",
    "        to_unit=z1[1],\n",
    "        weight=-2\n",
    "    ),\n",
    "    NeuronConnection(\n",
    "        from_unit=x[1],\n",
    "        to_unit=z1[2],\n",
    "        weight=2\n",
    "    )\n",
    "]\n",
    "# x[1].activation_function = sigmoid\n",
    "x[2].connections = [ # w^1_21, w^1_22\n",
    "    NeuronConnection(\n",
    "        from_unit=x[2],\n",
    "        to_unit=z1[1],\n",
    "        weight=-3\n",
    "    ),\n",
    "    NeuronConnection(\n",
    "        from_unit=x[2],\n",
    "        to_unit=z1[2],\n",
    "        weight=3\n",
    "    )\n",
    "]\n",
    "# x[2].activation_function = sigmoid"
   ]
  },
  {
   "cell_type": "code",
   "execution_count": 6,
   "id": "e694230f-a4d9-4dd1-804a-f03a02e52422",
   "metadata": {},
   "outputs": [],
   "source": [
    "z1[0].connections = [ # w^2_01, w^2_02\n",
    "    NeuronConnection(\n",
    "        from_unit=z1[0],\n",
    "        to_unit=z2[1],\n",
    "        weight=-1\n",
    "    ),\n",
    "    NeuronConnection(\n",
    "        from_unit=z1[0],\n",
    "        to_unit=z2[2],\n",
    "        weight=1\n",
    "    )\n",
    "]\n",
    "# z1[0].activation_function = sigmoid\n",
    "z1[1].connections = [z2[1], z2[2]]\n",
    "z1[1].init_parameters(Parameters([-2, 2])) # w^2_11, w^2_12\n",
    "z1[1].activation_function = sigmoid\n",
    "z1[2].connections = [z2[1], z2[2]]\n",
    "z1[2].init_parameters(Parameters([-3, 3])) # w^2_21, w^2_22\n",
    "z1[2].activation_function = sigmoid"
   ]
  },
  {
   "cell_type": "code",
   "execution_count": 7,
   "id": "3e82064e-df86-46af-a19f-458147a996eb",
   "metadata": {},
   "outputs": [],
   "source": [
    "z2[0].connections = [y]\n",
    "z2[0].init_parameters(Parameters([-1])) # w^3_01\n",
    "# z2[0].activation_function = sigmoid\n",
    "z2[1].connections = [y]\n",
    "z2[1].init_parameters(Parameters([2])) # w^3_11\n",
    "z2[1].activation_function = sigmoid\n",
    "z2[2].connections = [y]\n",
    "z2[2].init_parameters(Parameters([-1.5])) # w^3_21\n",
    "z2[2].activation_function = sigmoid"
   ]
  },
  {
   "cell_type": "code",
   "execution_count": 8,
   "id": "1db91758-dc8a-43c1-b4f8-5e45ce97c704",
   "metadata": {},
   "outputs": [],
   "source": [
    "def run(X):\n",
    "    \n",
    "    x[0].flush_energy()\n",
    "    x[1].flush_energy()\n",
    "    x[2].flush_energy()\n",
    "    \n",
    "    x[0].energy_potential = 1\n",
    "    z1[0].energy_potential = 1\n",
    "    z2[0].energy_potential = 1\n",
    "    \n",
    "    x[1].energy_potential = X[0]\n",
    "    x[2].energy_potential = X[1]\n",
    "    \n",
    "    x[0].fire()\n",
    "    x[1].fire()\n",
    "    x[2].fire()\n",
    "    print(z1[0].energy_potential, z1[1].energy_potential, z1[2].energy_potential)\n",
    "    \n",
    "    z1[0].fire()\n",
    "    z1[1].fire()\n",
    "    z1[2].fire()\n",
    "    print(z2[0].energy_potential, z2[1].energy_potential, z2[2].energy_potential)\n",
    "    \n",
    "    z2[0].fire()\n",
    "    z2[1].fire()\n",
    "    z2[2].fire()\n",
    "    \n",
    "    return y.energy_potential"
   ]
  },
  {
   "cell_type": "code",
   "execution_count": 9,
   "id": "c698f524-31f4-4ba5-96d4-0d3058d10f99",
   "metadata": {},
   "outputs": [
    {
     "name": "stdout",
     "output_type": "stream",
     "text": [
      "1 -6 6\n",
      "1 -3.9975273768433657 3.9975273768433657\n"
     ]
    },
    {
     "data": {
      "text/plain": [
       "-2.436895226556018"
      ]
     },
     "execution_count": 9,
     "metadata": {},
     "output_type": "execute_result"
    }
   ],
   "source": [
    "run([1,1])"
   ]
  },
  {
   "cell_type": "markdown",
   "id": "707b2279-6619-4d9f-8298-5c6635d9c73a",
   "metadata": {},
   "source": [
    "# ^ matches problem 2"
   ]
  },
  {
   "cell_type": "code",
   "execution_count": 10,
   "id": "968f9e4d-29f3-42c5-ba28-9aa210d6c38f",
   "metadata": {},
   "outputs": [],
   "source": [
    "class Backprop:\n",
    "    \n",
    "    def __init__(self):\n",
    "        self.__cache__ = {}\n",
    "        \n",
    "    def find_unit_paths(self, from_node, to_node, current_path=None, visited=None):\n",
    "        '''Uses DFS to find all the connecting paths between two units'''\n",
    "        if current_path is None:\n",
    "            current_path = []\n",
    "        if visited is None:\n",
    "            visited = set()\n",
    "        \n",
    "        current_path.append(from_node)\n",
    "        visited.add(from_node)\n",
    "        \n",
    "        if from_node == to_node:\n",
    "            # found a path\n",
    "            yield list(current_path)\n",
    "        else:\n",
    "            for neighbor in from_node.connections:\n",
    "                if neighbor not in visited:\n",
    "                    yield from self.find_unit_paths(neighbor, to_node, current_path, visited)\n",
    "        \n",
    "        current_path.pop()\n",
    "        visited.remove(from_node)\n",
    "\n",
    "    def build_gradient(self, from_unit, to_parameter):\n",
    "        for to_unit in to_parameter.parent_units:\n",
    "            paths = list(self.find_unit_paths(from_unit, to_unit))\n",
    "            gradient = []\n",
    "            for units in paths:\n",
    "                partial = 1\n",
    "                for u in units:\n",
    "                    partial*=u.connection_parameters.get_parameters()\n",
    "                gradient.append(partial)"
   ]
  },
  {
   "cell_type": "code",
   "execution_count": 11,
   "id": "57031f82-0b2d-4864-a211-04468529315e",
   "metadata": {},
   "outputs": [],
   "source": [
    "n = Backprop().backprop(z1[0], y)"
   ]
  },
  {
   "cell_type": "code",
   "execution_count": 12,
   "id": "4d6531a9-626a-484c-9ddf-d1633cbf7d3d",
   "metadata": {},
   "outputs": [
    {
     "data": {
      "text/plain": [
       "[[z1_0, z2_1, y], [z1_0, z2_2, y]]"
      ]
     },
     "execution_count": 12,
     "metadata": {},
     "output_type": "execute_result"
    }
   ],
   "source": [
    "n"
   ]
  },
  {
   "cell_type": "code",
   "execution_count": 18,
   "id": "b199e13c-8435-4894-b89f-96bcc62af6c5",
   "metadata": {},
   "outputs": [
    {
     "name": "stdout",
     "output_type": "stream",
     "text": [
      "1\n",
      "2\n",
      "3\n"
     ]
    }
   ],
   "source": [
    "for i in set([1, 2, 3]):\n",
    "    print(i)"
   ]
  },
  {
   "cell_type": "code",
   "execution_count": null,
   "id": "a501e37f-cbd3-46b8-a625-3b6227e1c74c",
   "metadata": {},
   "outputs": [],
   "source": []
  }
 ],
 "metadata": {
  "kernelspec": {
   "display_name": "Python 3 (ipykernel)",
   "language": "python",
   "name": "python3"
  },
  "language_info": {
   "codemirror_mode": {
    "name": "ipython",
    "version": 3
   },
   "file_extension": ".py",
   "mimetype": "text/x-python",
   "name": "python",
   "nbconvert_exporter": "python",
   "pygments_lexer": "ipython3",
   "version": "3.10.8"
  }
 },
 "nbformat": 4,
 "nbformat_minor": 5
}
