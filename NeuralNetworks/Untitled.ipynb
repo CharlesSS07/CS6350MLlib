{
 "cells": [
  {
   "cell_type": "code",
   "execution_count": 1,
   "id": "f62508bc-6916-4406-b4ed-83e16beb7ce3",
   "metadata": {},
   "outputs": [],
   "source": [
    "import numpy as np"
   ]
  },
  {
   "cell_type": "code",
   "execution_count": 5,
   "id": "94a2ed1b-6ea3-4c8c-8853-320445412302",
   "metadata": {},
   "outputs": [
    {
     "name": "stderr",
     "output_type": "stream",
     "text": [
      "/var/folders/hd/kdltsywn53jbp7lv3g1hld3w0000gn/T/ipykernel_48146/234028601.py:2: RuntimeWarning: overflow encountered in exp\n",
      "  return 1/(1+np.exp(-x))\n"
     ]
    },
    {
     "data": {
      "text/plain": [
       "(0.0, 0.5, 1.0)"
      ]
     },
     "execution_count": 5,
     "metadata": {},
     "output_type": "execute_result"
    }
   ],
   "source": [
    "def sigmoid(x):\n",
    "    return 1/(1+np.exp(-x))\n",
    "sigmoid(-1000), sigmoid(0), sigmoid(1000)"
   ]
  },
  {
   "cell_type": "code",
   "execution_count": 4,
   "id": "7ae58ec1-0af3-4af1-9a1d-f918a6d9f8a7",
   "metadata": {},
   "outputs": [],
   "source": [
    "class DenseLayer:\n",
    "    \n",
    "    def __init__(self, input_shape, layer_size, activation_function, use_bias=True):\n",
    "        self.layer_size=layer_size\n",
    "        self.input_shape=input_shape\n",
    "        self.activation_function=activation_function\n",
    "        self.use_bias=use_bias\n",
    "        if self.use_bias:\n",
    "            self.w = np.zeros(shape=[*self.input_shape, self.layer_size+1])\n",
    "        else:\n",
    "            self.w = np.zeros(shape=[*self.input_shape, self.layer_size])\n",
    "    \n",
    "    def foward_pass(self, x):\n",
    "        return self.activation_function(np.matmul(x, self.w))\n",
    "    \n",
    "#     def partial(self):\n",
    "        "
   ]
  },
  {
   "cell_type": "code",
   "execution_count": 8,
   "id": "eb779e39-1d46-4537-bc1e-73c31c504be2",
   "metadata": {},
   "outputs": [],
   "source": [
    "\n",
    "z1 = DenseLayer([3], 3, sigmoid)\n",
    "z2 = DenseLayer([3], 3, sigmoid)\n",
    "y =  DenseLayer([3], 1, sigmoid)\n"
   ]
  },
  {
   "cell_type": "code",
   "execution_count": 9,
   "id": "dc4a85a5-e2b0-43d0-9ac5-c0aaa3181ccc",
   "metadata": {},
   "outputs": [
    {
     "data": {
      "text/plain": [
       "array([[0., 0., 0., 0.],\n",
       "       [0., 0., 0., 0.],\n",
       "       [0., 0., 0., 0.]])"
      ]
     },
     "execution_count": 9,
     "metadata": {},
     "output_type": "execute_result"
    }
   ],
   "source": [
    "z1.w"
   ]
  },
  {
   "cell_type": "code",
   "execution_count": null,
   "id": "359302fa-4b01-4a06-95ae-85eae4ad2305",
   "metadata": {},
   "outputs": [],
   "source": [
    "def model(x):\n",
    "    return y.foward_pass(z2.foward_pass(z1.foward_pass(x))"
   ]
  }
 ],
 "metadata": {
  "kernelspec": {
   "display_name": "Python 3 (ipykernel)",
   "language": "python",
   "name": "python3"
  },
  "language_info": {
   "codemirror_mode": {
    "name": "ipython",
    "version": 3
   },
   "file_extension": ".py",
   "mimetype": "text/x-python",
   "name": "python",
   "nbconvert_exporter": "python",
   "pygments_lexer": "ipython3",
   "version": "3.10.8"
  }
 },
 "nbformat": 4,
 "nbformat_minor": 5
}
