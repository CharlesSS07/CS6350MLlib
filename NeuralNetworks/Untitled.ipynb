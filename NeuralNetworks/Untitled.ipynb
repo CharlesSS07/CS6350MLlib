{
 "cells": [
  {
   "cell_type": "code",
   "execution_count": 1,
   "id": "f62508bc-6916-4406-b4ed-83e16beb7ce3",
   "metadata": {},
   "outputs": [],
   "source": [
    "import numpy as np"
   ]
  },
  {
   "cell_type": "code",
   "execution_count": 2,
   "id": "165cba03-db79-4749-bc4a-5c8d738a664f",
   "metadata": {},
   "outputs": [],
   "source": [
    "def identity(x):\n",
    "    return x\n",
    "def d_identity_dx(x):\n",
    "    return np.ones(shape=x.shape, like=x)"
   ]
  },
  {
   "cell_type": "code",
   "execution_count": 3,
   "id": "94a2ed1b-6ea3-4c8c-8853-320445412302",
   "metadata": {},
   "outputs": [
    {
     "name": "stderr",
     "output_type": "stream",
     "text": [
      "/var/folders/hd/kdltsywn53jbp7lv3g1hld3w0000gn/T/ipykernel_52479/3566510964.py:2: RuntimeWarning: overflow encountered in exp\n",
      "  return 1/(1+np.exp(-x))\n"
     ]
    },
    {
     "data": {
      "text/plain": [
       "(0.0, 0.5, 1.0)"
      ]
     },
     "execution_count": 3,
     "metadata": {},
     "output_type": "execute_result"
    }
   ],
   "source": [
    "def sigmoid(x):\n",
    "    return 1/(1+np.exp(-x))\n",
    "def d_sigmoid_dx(x):\n",
    "    return sigmoid(x)*(1-sigmoid(x))\n",
    "sigmoid(-1000), sigmoid(0), sigmoid(1000)"
   ]
  },
  {
   "cell_type": "code",
   "execution_count": 45,
   "id": "7ae58ec1-0af3-4af1-9a1d-f918a6d9f8a7",
   "metadata": {},
   "outputs": [],
   "source": [
    "class DenseLayer:\n",
    "    \n",
    "    def __init__(self, activation_function, dactivation_function):\n",
    "        self.activation_function=activation_function\n",
    "        self.dactivation_function=dactivation_function\n",
    "    \n",
    "    def foward_pass(self, x):\n",
    "        x = np.array(x)\n",
    "        # print(self.w.shape, x.shape)\n",
    "        s = np.matmul(self.w, x)\n",
    "        # print(s)\n",
    "        return self.activation_function(s)\n",
    "    \n",
    "    def backward_pass(self, x):\n",
    "        x = np.array(x)\n",
    "        \n",
    "        # print('w.shape', self.w.shape)\n",
    "        \n",
    "        # print('x.shape', x.shape)\n",
    "        \n",
    "        s = np.matmul(self.w, x)\n",
    "        \n",
    "        # print('s.shape', s.shape)\n",
    "        \n",
    "        dactivation = np.array(self.dactivation_function(s))\n",
    "        \n",
    "        # print('dactivation.shape', dactivation.shape)\n",
    "        \n",
    "        # d/dx\n",
    "        dsdx = self.w.T\n",
    "        \n",
    "        dx = np.matmul(dsdx, dactivation)\n",
    "        \n",
    "        # d/dw\n",
    "        dsdw = x\n",
    "        \n",
    "        dw = np.array([ x*dsdw for x in dactivation ])\n",
    "        \n",
    "        # print('dw', dw)\n",
    "        \n",
    "        return dx, dw\n",
    "    "
   ]
  },
  {
   "cell_type": "code",
   "execution_count": 46,
   "id": "eb779e39-1d46-4537-bc1e-73c31c504be2",
   "metadata": {},
   "outputs": [],
   "source": [
    "\n",
    "z1 = DenseLayer(sigmoid, d_sigmoid_dx)\n",
    "z2 = DenseLayer(sigmoid, d_sigmoid_dx)\n",
    "y =  DenseLayer(identity, d_identity_dx)\n",
    "\n",
    "z1.w = np.array(\n",
    "    [\n",
    "        [-1, -2, -3],\n",
    "        [ 1,  2,  3]\n",
    "    ]\n",
    ")\n",
    "z2.w = np.array(\n",
    "    [\n",
    "        [-1, -2, -3],\n",
    "        [ 1,  2,  3]\n",
    "    ]\n",
    ")\n",
    "y.w = np.array(\n",
    "    [\n",
    "        [ -1,  2, -1.5]\n",
    "    ]\n",
    ")\n"
   ]
  },
  {
   "cell_type": "code",
   "execution_count": 47,
   "id": "359302fa-4b01-4a06-95ae-85eae4ad2305",
   "metadata": {},
   "outputs": [],
   "source": [
    "def model(x):\n",
    "    Z1 = [1, *z1.foward_pass(x)]\n",
    "    Z2 = [1, *z2.foward_pass(Z1)]\n",
    "    Y =  y.foward_pass(Z2)\n",
    "    return Y"
   ]
  },
  {
   "cell_type": "code",
   "execution_count": 48,
   "id": "4e4b3ecb-504c-4d2c-8f40-e5b0538bc098",
   "metadata": {},
   "outputs": [
    {
     "data": {
      "text/plain": [
       "array([-2.43689523])"
      ]
     },
     "execution_count": 48,
     "metadata": {},
     "output_type": "execute_result"
    }
   ],
   "source": [
    "model(np.array([1,1,1]))"
   ]
  },
  {
   "cell_type": "code",
   "execution_count": 49,
   "id": "a45d73fd-8544-4c2d-a20f-e686d9d14694",
   "metadata": {},
   "outputs": [
    {
     "name": "stdout",
     "output_type": "stream",
     "text": [
      "[-2.43689523]\n",
      "dLdw3 [[-3.43689523 -0.061967   -3.37492823]]\n",
      "dLdw2 [[ 0.06084974 -0.00030092  0.09104892]\n",
      " [ 0.06084974 -0.00030092  0.09104892]]\n",
      "dLdw1 [[-7.94096102e-19  3.17638441e-18 -3.61754891e-18]\n",
      " [-7.94096102e-19  3.17638441e-18 -3.61754891e-18]]\n"
     ]
    }
   ],
   "source": [
    "def compute_gradient_via_backprop(x, y_true):\n",
    "    Z1 = np.array([1, *z1.foward_pass(x)])\n",
    "    Z2 = np.array([1, *z2.foward_pass(Z1)])\n",
    "    Y =  y.foward_pass(Z2)\n",
    "    print(Y)\n",
    "    L = (1/2) * (Y-y_true)**2\n",
    "    \n",
    "    dLdy = Y-y_true\n",
    "    \n",
    "    dydz2, dydw3 = y.backward_pass(Z2)\n",
    "    \n",
    "    # print('dydz2\\n', dydz2)\n",
    "    \n",
    "    dLdw3 = dLdy*dydw3\n",
    "    \n",
    "    print('dLdw3', dLdw3)\n",
    "    \n",
    "    dz2dz1, dz2dw2 = z2.backward_pass(Z1)\n",
    "    \n",
    "    # print('dz2dz1\\n', dz2dz1)\n",
    "    \n",
    "    dLdw2 = dLdy * dydz2 * dz2dw2\n",
    "    \n",
    "    print('dLdw2', dLdw2)\n",
    "    \n",
    "    dz1dx, dz1dw1 = z1.backward_pass(x)\n",
    "    \n",
    "    # print('dz1dx\\n', dz1dx)\n",
    "    \n",
    "    dLdw1 = (dLdy * dydz2 * dz2dz1).T * dz1dw1 # why did this need that transpose?\n",
    "    \n",
    "    print('dLdw1', dLdw1)\n",
    "    \n",
    "compute_gradient_via_backprop(np.array([1,1,1]), np.array(1))"
   ]
  },
  {
   "cell_type": "code",
   "execution_count": null,
   "id": "c5dd47ea-2470-4884-98f0-2f80e9d5d253",
   "metadata": {},
   "outputs": [],
   "source": []
  },
  {
   "cell_type": "code",
   "execution_count": null,
   "id": "d4718b93-002e-4664-9ce6-3516abebc8f4",
   "metadata": {},
   "outputs": [],
   "source": []
  },
  {
   "cell_type": "code",
   "execution_count": null,
   "id": "662e9843-7f13-4bf5-a125-a2bf5e3dff60",
   "metadata": {},
   "outputs": [],
   "source": []
  },
  {
   "cell_type": "code",
   "execution_count": null,
   "id": "4cf3f104-215f-4ba8-b53e-8511216e3ae6",
   "metadata": {},
   "outputs": [],
   "source": []
  },
  {
   "cell_type": "code",
   "execution_count": null,
   "id": "39a2f5c0-a7e3-446e-8686-cdc206bd0335",
   "metadata": {},
   "outputs": [],
   "source": []
  }
 ],
 "metadata": {
  "kernelspec": {
   "display_name": "Python 3 (ipykernel)",
   "language": "python",
   "name": "python3"
  },
  "language_info": {
   "codemirror_mode": {
    "name": "ipython",
    "version": 3
   },
   "file_extension": ".py",
   "mimetype": "text/x-python",
   "name": "python",
   "nbconvert_exporter": "python",
   "pygments_lexer": "ipython3",
   "version": "3.10.8"
  }
 },
 "nbformat": 4,
 "nbformat_minor": 5
}
