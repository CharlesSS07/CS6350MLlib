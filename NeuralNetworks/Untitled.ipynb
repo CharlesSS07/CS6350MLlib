{
 "cells": [
  {
   "cell_type": "code",
   "execution_count": 1,
   "id": "f62508bc-6916-4406-b4ed-83e16beb7ce3",
   "metadata": {},
   "outputs": [],
   "source": [
    "import numpy as np"
   ]
  },
  {
   "cell_type": "code",
   "execution_count": 2,
   "id": "165cba03-db79-4749-bc4a-5c8d738a664f",
   "metadata": {},
   "outputs": [],
   "source": [
    "def identity(x):\n",
    "    return x\n",
    "def d_identity_dx(x):\n",
    "    return 1"
   ]
  },
  {
   "cell_type": "code",
   "execution_count": 3,
   "id": "94a2ed1b-6ea3-4c8c-8853-320445412302",
   "metadata": {},
   "outputs": [
    {
     "name": "stderr",
     "output_type": "stream",
     "text": [
      "/var/folders/hd/kdltsywn53jbp7lv3g1hld3w0000gn/T/ipykernel_51740/3566510964.py:2: RuntimeWarning: overflow encountered in exp\n",
      "  return 1/(1+np.exp(-x))\n"
     ]
    },
    {
     "data": {
      "text/plain": [
       "(0.0, 0.5, 1.0)"
      ]
     },
     "execution_count": 3,
     "metadata": {},
     "output_type": "execute_result"
    }
   ],
   "source": [
    "def sigmoid(x):\n",
    "    return 1/(1+np.exp(-x))\n",
    "def d_sigmoid_dx(x):\n",
    "    return sigmoid(x)*(1-sigmoid(x))\n",
    "sigmoid(-1000), sigmoid(0), sigmoid(1000)"
   ]
  },
  {
   "cell_type": "code",
   "execution_count": 44,
   "id": "7ae58ec1-0af3-4af1-9a1d-f918a6d9f8a7",
   "metadata": {},
   "outputs": [],
   "source": [
    "class DenseLayer:\n",
    "    \n",
    "    def __init__(self, activation_function, dactivation_function):\n",
    "        self.activation_function=activation_function\n",
    "        self.dactivation_function=dactivation_function\n",
    "    \n",
    "    def foward_pass(self, x):\n",
    "        x = np.array(x)\n",
    "        # print(self.w.shape, x.shape)\n",
    "        s = np.matmul(self.w, x)\n",
    "        # print(s)\n",
    "        return self.activation_function(s)\n",
    "    \n",
    "    def backward_pass(self, x):\n",
    "        x = np.array(x)\n",
    "        \n",
    "        print(x.shape)\n",
    "        \n",
    "        s = np.matmul(self.w, x)\n",
    "        \n",
    "        print(s.shape)\n",
    "        \n",
    "        dactivation = np.array(self.dactivation_function(s))\n",
    "        \n",
    "        print(dactivation.shape)\n",
    "        \n",
    "        # d/dx\n",
    "        dsdx = self.w.T\n",
    "        \n",
    "        print(dactivation.shape, dsdx.shape)\n",
    "        \n",
    "        dx = np.multiply(dactivation, dsdx)\n",
    "        \n",
    "        # d/dw\n",
    "        dsdw = x\n",
    "        \n",
    "        print(dactivation.shape, dsdw.shape)\n",
    "        \n",
    "        dw = np.multiply(dactivation, dsdw)\n",
    "        \n",
    "        return dsdx, dsdw\n",
    "    "
   ]
  },
  {
   "cell_type": "code",
   "execution_count": 45,
   "id": "eb779e39-1d46-4537-bc1e-73c31c504be2",
   "metadata": {},
   "outputs": [],
   "source": [
    "\n",
    "z1 = DenseLayer(sigmoid, d_sigmoid_dx)\n",
    "z2 = DenseLayer(sigmoid, d_sigmoid_dx)\n",
    "y =  DenseLayer(identity, d_identity_dx)\n"
   ]
  },
  {
   "cell_type": "code",
   "execution_count": 46,
   "id": "dc4a85a5-e2b0-43d0-9ac5-c0aaa3181ccc",
   "metadata": {},
   "outputs": [
    {
     "data": {
      "text/plain": [
       "array([[-1, -2, -3],\n",
       "       [ 1,  2,  3]])"
      ]
     },
     "execution_count": 46,
     "metadata": {},
     "output_type": "execute_result"
    }
   ],
   "source": [
    "z1.w = np.array(\n",
    "    [\n",
    "        [-1, -2, -3],\n",
    "        [ 1,  2,  3]\n",
    "    ]\n",
    ")\n",
    "z1.w"
   ]
  },
  {
   "cell_type": "code",
   "execution_count": 47,
   "id": "0bee5b93-7bf0-4fc6-9f01-8604dab84000",
   "metadata": {},
   "outputs": [
    {
     "data": {
      "text/plain": [
       "array([[-1, -2, -3],\n",
       "       [ 1,  2,  3]])"
      ]
     },
     "execution_count": 47,
     "metadata": {},
     "output_type": "execute_result"
    }
   ],
   "source": [
    "z2.w = np.array(\n",
    "    [\n",
    "        [-1, -2, -3],\n",
    "        [ 1,  2,  3]\n",
    "    ]\n",
    ")\n",
    "z2.w"
   ]
  },
  {
   "cell_type": "code",
   "execution_count": 48,
   "id": "0289fdd7-82a7-4976-981f-2ca2119157be",
   "metadata": {},
   "outputs": [
    {
     "data": {
      "text/plain": [
       "array([[-1. ,  2. , -1.5]])"
      ]
     },
     "execution_count": 48,
     "metadata": {},
     "output_type": "execute_result"
    }
   ],
   "source": [
    "y.w = np.array(\n",
    "    [\n",
    "        [ -1,  2, -1.5]\n",
    "    ]\n",
    ")\n",
    "y.w"
   ]
  },
  {
   "cell_type": "code",
   "execution_count": 49,
   "id": "359302fa-4b01-4a06-95ae-85eae4ad2305",
   "metadata": {},
   "outputs": [],
   "source": [
    "def model(x):\n",
    "    Z1 = [1, *z1.foward_pass(x)]\n",
    "    Z2 = [1, *z2.foward_pass(Z1)]\n",
    "    Y =  y.foward_pass(Z2)\n",
    "    return Y"
   ]
  },
  {
   "cell_type": "code",
   "execution_count": 50,
   "id": "4e4b3ecb-504c-4d2c-8f40-e5b0538bc098",
   "metadata": {},
   "outputs": [
    {
     "data": {
      "text/plain": [
       "array([-2.43689523])"
      ]
     },
     "execution_count": 50,
     "metadata": {},
     "output_type": "execute_result"
    }
   ],
   "source": [
    "model(np.array([1,1,1]))"
   ]
  },
  {
   "cell_type": "code",
   "execution_count": 51,
   "id": "a45d73fd-8544-4c2d-a20f-e686d9d14694",
   "metadata": {},
   "outputs": [
    {
     "name": "stdout",
     "output_type": "stream",
     "text": [
      "[-2.43689523]\n",
      "(3,)\n",
      "(1,)\n",
      "()\n",
      "() (3, 1)\n",
      "() (3,)\n",
      "(3,) (2, 3)\n",
      "(3,)\n",
      "(2,)\n",
      "(2,)\n",
      "(2,) (3, 2)\n",
      "(2,) (3,)\n"
     ]
    },
    {
     "ename": "ValueError",
     "evalue": "operands could not be broadcast together with shapes (2,) (3,) ",
     "output_type": "error",
     "traceback": [
      "\u001b[0;31m---------------------------------------------------------------------------\u001b[0m",
      "\u001b[0;31mValueError\u001b[0m                                Traceback (most recent call last)",
      "Cell \u001b[0;32mIn [51], line 22\u001b[0m\n\u001b[1;32m     20\u001b[0m     \u001b[38;5;28mprint\u001b[39m(dLdw2)\n\u001b[1;32m     21\u001b[0m     \u001b[38;5;28;01mreturn\u001b[39;00m Y\n\u001b[0;32m---> 22\u001b[0m \u001b[43mbackprop\u001b[49m\u001b[43m(\u001b[49m\u001b[43mnp\u001b[49m\u001b[38;5;241;43m.\u001b[39;49m\u001b[43marray\u001b[49m\u001b[43m(\u001b[49m\u001b[43m[\u001b[49m\u001b[38;5;241;43m1\u001b[39;49m\u001b[43m,\u001b[49m\u001b[38;5;241;43m1\u001b[39;49m\u001b[43m,\u001b[49m\u001b[38;5;241;43m1\u001b[39;49m\u001b[43m]\u001b[49m\u001b[43m)\u001b[49m\u001b[43m,\u001b[49m\u001b[43m \u001b[49m\u001b[43mnp\u001b[49m\u001b[38;5;241;43m.\u001b[39;49m\u001b[43marray\u001b[49m\u001b[43m(\u001b[49m\u001b[38;5;241;43m1\u001b[39;49m\u001b[43m)\u001b[49m\u001b[43m)\u001b[49m\n",
      "Cell \u001b[0;32mIn [51], line 16\u001b[0m, in \u001b[0;36mbackprop\u001b[0;34m(x, y_true)\u001b[0m\n\u001b[1;32m     12\u001b[0m dLdw3 \u001b[38;5;241m=\u001b[39m dLdy\u001b[38;5;241m*\u001b[39mdydw3\n\u001b[1;32m     14\u001b[0m \u001b[38;5;28mprint\u001b[39m(Z1\u001b[38;5;241m.\u001b[39mshape, z2\u001b[38;5;241m.\u001b[39mw\u001b[38;5;241m.\u001b[39mshape)\n\u001b[0;32m---> 16\u001b[0m dydz1, dydw2 \u001b[38;5;241m=\u001b[39m \u001b[43mz2\u001b[49m\u001b[38;5;241;43m.\u001b[39;49m\u001b[43mbackward_pass\u001b[49m\u001b[43m(\u001b[49m\u001b[43mZ1\u001b[49m\u001b[43m)\u001b[49m\n\u001b[1;32m     18\u001b[0m dLdw2 \u001b[38;5;241m=\u001b[39m dLdy \u001b[38;5;241m*\u001b[39m dydz2 \u001b[38;5;241m*\u001b[39m dz2dw2\n\u001b[1;32m     20\u001b[0m \u001b[38;5;28mprint\u001b[39m(dLdw2)\n",
      "Cell \u001b[0;32mIn [44], line 39\u001b[0m, in \u001b[0;36mDenseLayer.backward_pass\u001b[0;34m(self, x)\u001b[0m\n\u001b[1;32m     35\u001b[0m dsdw \u001b[38;5;241m=\u001b[39m x\u001b[38;5;241m.\u001b[39mT\n\u001b[1;32m     37\u001b[0m \u001b[38;5;28mprint\u001b[39m(dactivation\u001b[38;5;241m.\u001b[39mshape, dsdw\u001b[38;5;241m.\u001b[39mshape)\n\u001b[0;32m---> 39\u001b[0m dw \u001b[38;5;241m=\u001b[39m \u001b[43mnp\u001b[49m\u001b[38;5;241;43m.\u001b[39;49m\u001b[43mmultiply\u001b[49m\u001b[43m(\u001b[49m\u001b[43mdactivation\u001b[49m\u001b[43m,\u001b[49m\u001b[43m \u001b[49m\u001b[43mdsdw\u001b[49m\u001b[43m)\u001b[49m\n\u001b[1;32m     41\u001b[0m \u001b[38;5;28;01mreturn\u001b[39;00m dsdx, dsdw\n",
      "\u001b[0;31mValueError\u001b[0m: operands could not be broadcast together with shapes (2,) (3,) "
     ]
    }
   ],
   "source": [
    "def backprop(x, y_true):\n",
    "    Z1 = np.array([1, *z1.foward_pass(x)])\n",
    "    Z2 = np.array([1, *z2.foward_pass(Z1)])\n",
    "    Y =  y.foward_pass(Z2)\n",
    "    print(Y)\n",
    "    L = (1/2) * (Y-y_true)**2\n",
    "    \n",
    "    dLdy = Y-y_true\n",
    "    \n",
    "    dydz2, dydw3 = y.backward_pass(Z2)\n",
    "    \n",
    "    dLdw3 = dLdy*dydw3\n",
    "    \n",
    "    print(Z1.shape, z2.w.shape)\n",
    "    \n",
    "    dydz1, dydw2 = z2.backward_pass(Z1)\n",
    "    \n",
    "    dLdw2 = dLdy * dydz2 * dz2dw2\n",
    "    \n",
    "    print(dLdw2)\n",
    "    return Y\n",
    "backprop(np.array([1,1,1]), np.array(1))"
   ]
  },
  {
   "cell_type": "code",
   "execution_count": null,
   "id": "c5dd47ea-2470-4884-98f0-2f80e9d5d253",
   "metadata": {},
   "outputs": [],
   "source": []
  },
  {
   "cell_type": "code",
   "execution_count": null,
   "id": "d4718b93-002e-4664-9ce6-3516abebc8f4",
   "metadata": {},
   "outputs": [],
   "source": []
  },
  {
   "cell_type": "code",
   "execution_count": null,
   "id": "662e9843-7f13-4bf5-a125-a2bf5e3dff60",
   "metadata": {},
   "outputs": [],
   "source": []
  }
 ],
 "metadata": {
  "kernelspec": {
   "display_name": "Python 3 (ipykernel)",
   "language": "python",
   "name": "python3"
  },
  "language_info": {
   "codemirror_mode": {
    "name": "ipython",
    "version": 3
   },
   "file_extension": ".py",
   "mimetype": "text/x-python",
   "name": "python",
   "nbconvert_exporter": "python",
   "pygments_lexer": "ipython3",
   "version": "3.10.8"
  }
 },
 "nbformat": 4,
 "nbformat_minor": 5
}
